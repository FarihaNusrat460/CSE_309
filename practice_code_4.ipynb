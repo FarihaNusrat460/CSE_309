{
  "nbformat": 4,
  "nbformat_minor": 0,
  "metadata": {
    "colab": {
      "name": "practice_code_4",
      "provenance": [],
      "authorship_tag": "ABX9TyNVjzB2XfekNqxj8vHkorHU",
      "include_colab_link": true
    },
    "kernelspec": {
      "name": "python3",
      "display_name": "Python 3"
    }
  },
  "cells": [
    {
      "cell_type": "markdown",
      "metadata": {
        "id": "view-in-github",
        "colab_type": "text"
      },
      "source": [
        "<a href=\"https://colab.research.google.com/github/FarihaNusrat460/CSE_309/blob/master/practice_code_4.ipynb\" target=\"_parent\"><img src=\"https://colab.research.google.com/assets/colab-badge.svg\" alt=\"Open In Colab\"/></a>"
      ]
    },
    {
      "cell_type": "markdown",
      "metadata": {
        "id": "NKffiM9iV0j-",
        "colab_type": "text"
      },
      "source": [
        "#Loop "
      ]
    },
    {
      "cell_type": "markdown",
      "metadata": {
        "id": "j4cds_JjagwA",
        "colab_type": "text"
      },
      "source": [
        "#0-9 print"
      ]
    },
    {
      "cell_type": "code",
      "metadata": {
        "id": "q1fbrY8oanID",
        "colab_type": "code",
        "colab": {}
      },
      "source": [
        "''' for(int i=0;i<10;i++){\n",
        "  s.o.println(i);\n",
        "}'''\n",
        "\n",
        "''' \n",
        "int i=0;\n",
        "while(i<10){\n",
        "print(i);\n",
        "i++;\n",
        "\n",
        "}''''"
      ],
      "execution_count": null,
      "outputs": []
    },
    {
      "cell_type": "code",
      "metadata": {
        "id": "LzKvvpBqbCkc",
        "colab_type": "code",
        "colab": {
          "base_uri": "https://localhost:8080/",
          "height": 204
        },
        "outputId": "20ef99d9-83ae-4889-df38-5f43370529c5"
      },
      "source": [
        "i=0\n",
        "while i<10:\n",
        "    print(i)\n",
        "    i=i+1\n",
        "print(\"end programe\")"
      ],
      "execution_count": 2,
      "outputs": [
        {
          "output_type": "stream",
          "text": [
            "0\n",
            "1\n",
            "2\n",
            "3\n",
            "4\n",
            "5\n",
            "6\n",
            "7\n",
            "8\n",
            "9\n",
            "end programe\n"
          ],
          "name": "stdout"
        }
      ]
    },
    {
      "cell_type": "markdown",
      "metadata": {
        "id": "aqWZM8e8ePa_",
        "colab_type": "text"
      },
      "source": [
        "#print even num from 1 to 20"
      ]
    },
    {
      "cell_type": "code",
      "metadata": {
        "id": "hn7s1LniehAr",
        "colab_type": "code",
        "colab": {
          "base_uri": "https://localhost:8080/",
          "height": 187
        },
        "outputId": "098d0f53-8ffe-406e-bb89-2996835e9528"
      },
      "source": [
        "i=2\n",
        "while i<=20:\n",
        "    print(i)\n",
        "    i=i+2"
      ],
      "execution_count": 3,
      "outputs": [
        {
          "output_type": "stream",
          "text": [
            "2\n",
            "4\n",
            "6\n",
            "8\n",
            "10\n",
            "12\n",
            "14\n",
            "16\n",
            "18\n",
            "20\n"
          ],
          "name": "stdout"
        }
      ]
    },
    {
      "cell_type": "markdown",
      "metadata": {
        "id": "D9zUJdVbe1Fa",
        "colab_type": "text"
      },
      "source": [
        "#print odd num from 1 to 20"
      ]
    },
    {
      "cell_type": "code",
      "metadata": {
        "id": "m6QODShoeZhT",
        "colab_type": "code",
        "colab": {
          "base_uri": "https://localhost:8080/",
          "height": 187
        },
        "outputId": "df4b7b61-75fa-4e8a-f8f7-11521c091dc7"
      },
      "source": [
        "i=1\n",
        "while i<=20:\n",
        "    print(i)\n",
        "    i=i+2"
      ],
      "execution_count": null,
      "outputs": [
        {
          "output_type": "stream",
          "text": [
            "1\n",
            "3\n",
            "5\n",
            "7\n",
            "9\n",
            "11\n",
            "13\n",
            "15\n",
            "17\n",
            "19\n"
          ],
          "name": "stdout"
        }
      ]
    },
    {
      "cell_type": "markdown",
      "metadata": {
        "id": "TMNJhYlWe_h4",
        "colab_type": "text"
      },
      "source": [
        "#1+2+....+10=? "
      ]
    },
    {
      "cell_type": "code",
      "metadata": {
        "id": "iro3SchnfJX7",
        "colab_type": "code",
        "colab": {
          "base_uri": "https://localhost:8080/",
          "height": 34
        },
        "outputId": "3f5feb24-b90b-4c95-fd37-d687dd5f0d41"
      },
      "source": [
        "i=1\n",
        "sum=0\n",
        "while i<=10:\n",
        "    sum=sum+i\n",
        "    i=i+1\n",
        "print(sum)\n",
        "    \n",
        "    "
      ],
      "execution_count": 36,
      "outputs": [
        {
          "output_type": "stream",
          "text": [
            "55\n"
          ],
          "name": "stdout"
        }
      ]
    },
    {
      "cell_type": "code",
      "metadata": {
        "id": "Z8tkvpFOzpxw",
        "colab_type": "code",
        "colab": {
          "base_uri": "https://localhost:8080/",
          "height": 34
        },
        "outputId": "f79cd041-d817-47b4-8296-1e5821c4e92d"
      },
      "source": [
        "'''for'''\n",
        "sum=0\n",
        "for i in range(1,11,1):\n",
        "  sum=sum+i\n",
        "print(sum)"
      ],
      "execution_count": 35,
      "outputs": [
        {
          "output_type": "stream",
          "text": [
            "55\n"
          ],
          "name": "stdout"
        }
      ]
    },
    {
      "cell_type": "markdown",
      "metadata": {
        "id": "Opbkku_kiRbR",
        "colab_type": "text"
      },
      "source": [
        "#2+4+6+....+10=?"
      ]
    },
    {
      "cell_type": "code",
      "metadata": {
        "id": "Y1MAK10viW8M",
        "colab_type": "code",
        "colab": {
          "base_uri": "https://localhost:8080/",
          "height": 34
        },
        "outputId": "6e9d8b1c-41fc-4d20-f6fe-13b966793275"
      },
      "source": [
        "i=2\n",
        "sum=0\n",
        "\n",
        "while i<=10:\n",
        "    sum=sum+i\n",
        "    i=i+2\n",
        "print(sum)"
      ],
      "execution_count": null,
      "outputs": [
        {
          "output_type": "stream",
          "text": [
            "30\n"
          ],
          "name": "stdout"
        }
      ]
    },
    {
      "cell_type": "code",
      "metadata": {
        "id": "Kqq73zjf0MBa",
        "colab_type": "code",
        "colab": {
          "base_uri": "https://localhost:8080/",
          "height": 34
        },
        "outputId": "a9d08495-eca6-45e4-89c6-ce345de7b508"
      },
      "source": [
        "'''for'''\n",
        "sum=0\n",
        "\n",
        "for i in range(2,11,2):\n",
        "  sum=sum+i\n",
        "print(sum)"
      ],
      "execution_count": 37,
      "outputs": [
        {
          "output_type": "stream",
          "text": [
            "30\n"
          ],
          "name": "stdout"
        }
      ]
    },
    {
      "cell_type": "markdown",
      "metadata": {
        "id": "xmvVjF0_ivuV",
        "colab_type": "text"
      },
      "source": [
        "#1+2+...+10=55"
      ]
    },
    {
      "cell_type": "code",
      "metadata": {
        "id": "b2UyTeWni4qS",
        "colab_type": "code",
        "colab": {
          "base_uri": "https://localhost:8080/",
          "height": 34
        },
        "outputId": "4148f6e2-b552-4bea-aee6-ea060f483f72"
      },
      "source": [
        "i=1\n",
        "sum=0\n",
        "\n",
        "while i<11:\n",
        "  if i==10:\n",
        "    print(i,'=',end=' ')\n",
        "  else:\n",
        "    print(i, '+', end=' ')\n",
        "  sum=sum+i \n",
        "  i=i+1\n",
        "print(sum)"
      ],
      "execution_count": null,
      "outputs": [
        {
          "output_type": "stream",
          "text": [
            "1 + 2 + 3 + 4 + 5 + 6 + 7 + 8 + 9 + 10 = 55\n"
          ],
          "name": "stdout"
        }
      ]
    },
    {
      "cell_type": "markdown",
      "metadata": {
        "id": "75F037PZwuYR",
        "colab_type": "text"
      },
      "source": [
        "#1+2+.....+10=?"
      ]
    },
    {
      "cell_type": "code",
      "metadata": {
        "id": "ErJfFy7Sw3Kn",
        "colab_type": "code",
        "colab": {
          "base_uri": "https://localhost:8080/",
          "height": 34
        },
        "outputId": "0499dd79-488b-4250-894a-ebd1e4c99f36"
      },
      "source": [
        "i=1\n",
        "\n",
        "while i<11:\n",
        "  if i==10:\n",
        "    print(i,'=',end=' ')\n",
        "  else:\n",
        "    print(i,'+', end = ' ')\n",
        "  i=i+1\n",
        "print('?')"
      ],
      "execution_count": null,
      "outputs": [
        {
          "output_type": "stream",
          "text": [
            "1 + 2 + 3 + 4 + 5 + 6 + 7 + 8 + 9 + 10 = ?\n"
          ],
          "name": "stdout"
        }
      ]
    },
    {
      "cell_type": "markdown",
      "metadata": {
        "id": "06K5EAmty97M",
        "colab_type": "text"
      },
      "source": [
        "start=10,\n",
        "end=20,\n",
        "10+11+...+20=?"
      ]
    },
    {
      "cell_type": "code",
      "metadata": {
        "id": "60-q91XnzFQl",
        "colab_type": "code",
        "colab": {
          "base_uri": "https://localhost:8080/",
          "height": 68
        },
        "outputId": "9f27ec39-a153-4d55-f8c0-312856825a3d"
      },
      "source": [
        "start=int(input('start: '))\n",
        "end_i=int(input('end: '))\n",
        "\n",
        "i=start\n",
        "sum=0\n",
        "\n",
        "while i<end_i+1:\n",
        "   if i==end_i:\n",
        "     print(i,'=',end=' ')\n",
        "   else:\n",
        "     print(i,'+',end=' ')\n",
        "   sum= sum + i\n",
        "   i=i+1\n",
        "print(sum)"
      ],
      "execution_count": null,
      "outputs": [
        {
          "output_type": "stream",
          "text": [
            "start: 10\n",
            "end: 20\n",
            "10 + 11 + 12 + 13 + 14 + 15 + 16 + 17 + 18 + 19 + 20 = 165\n"
          ],
          "name": "stdout"
        }
      ]
    },
    {
      "cell_type": "markdown",
      "metadata": {
        "id": "T1rKKsUq1lKD",
        "colab_type": "text"
      },
      "source": [
        "\n",
        "\n",
        "```\n",
        "input:\n",
        "start:20\n",
        "finish:40\n",
        "output:\n",
        "20+22+24+....+40=?\n",
        "\n",
        "```\n",
        "\n"
      ]
    },
    {
      "cell_type": "code",
      "metadata": {
        "id": "QtEC3ZIL1xbA",
        "colab_type": "code",
        "colab": {
          "base_uri": "https://localhost:8080/",
          "height": 68
        },
        "outputId": "24ef1b6e-dc5f-40dc-dcc2-48df69137d81"
      },
      "source": [
        "start=int(input('start: '))\n",
        "finish=int(input('finish: '))\n",
        "\n",
        "i=start\n",
        "sum=0\n",
        "\n",
        "while i<finish+1:\n",
        "   if i==finish:\n",
        "     print(i,'=',end=' ')\n",
        "   else:\n",
        "     print(i,'+',end=' ')\n",
        "   sum=sum+i\n",
        "   i=i+2\n",
        "print(sum)\n",
        "  "
      ],
      "execution_count": null,
      "outputs": [
        {
          "output_type": "stream",
          "text": [
            "start: 10\n",
            "finish: 21\n",
            "10 + 12 + 14 + 16 + 18 + 20 + 90\n"
          ],
          "name": "stdout"
        }
      ]
    },
    {
      "cell_type": "markdown",
      "metadata": {
        "id": "awg-DNv7lzop",
        "colab_type": "text"
      },
      "source": [
        "\n",
        "\n",
        "```\n",
        "sum of nth term\n",
        "```\n",
        "\n"
      ]
    },
    {
      "cell_type": "code",
      "metadata": {
        "id": "UFxIHlR2l5it",
        "colab_type": "code",
        "colab": {
          "base_uri": "https://localhost:8080/",
          "height": 51
        },
        "outputId": "d15e7efd-df27-4c11-d92f-68b08ab98295"
      },
      "source": [
        "n=int(input(\"enter the num: \"))\n",
        "\n",
        "i=1\n",
        "sum=0\n",
        "\n",
        "while i<=n:\n",
        "  sum=sum+i\n",
        "  i=i+1\n",
        "print(sum)"
      ],
      "execution_count": 4,
      "outputs": [
        {
          "output_type": "stream",
          "text": [
            "enter the num: 10\n",
            "55\n"
          ],
          "name": "stdout"
        }
      ]
    },
    {
      "cell_type": "code",
      "metadata": {
        "id": "M8KOc-4x9uEI",
        "colab_type": "code",
        "colab": {}
      },
      "source": [
        ""
      ],
      "execution_count": null,
      "outputs": []
    },
    {
      "cell_type": "markdown",
      "metadata": {
        "id": "6Gm7sYhOo7UM",
        "colab_type": "text"
      },
      "source": [
        "#1^2+2^2+.....+n^2"
      ]
    },
    {
      "cell_type": "code",
      "metadata": {
        "id": "n7kj86bwpD_V",
        "colab_type": "code",
        "colab": {
          "base_uri": "https://localhost:8080/",
          "height": 51
        },
        "outputId": "021e0dfb-5fa4-41c4-cb37-6d2418894a54"
      },
      "source": [
        "n=int(input())\n",
        "i=1\n",
        "sum=0\n",
        "\n",
        "while i<=n:\n",
        "  sum=sum+i*i\n",
        "  i=i+1\n",
        "print(sum)"
      ],
      "execution_count": 6,
      "outputs": [
        {
          "output_type": "stream",
          "text": [
            "5\n",
            "55\n"
          ],
          "name": "stdout"
        }
      ]
    },
    {
      "cell_type": "code",
      "metadata": {
        "id": "YUqr4rOG0fBC",
        "colab_type": "code",
        "colab": {
          "base_uri": "https://localhost:8080/",
          "height": 51
        },
        "outputId": "7f4b71be-8c55-4ca9-c2e3-2d860eb708a0"
      },
      "source": [
        "'''for'''\n",
        "n=int(input())\n",
        "sum=0\n",
        "\n",
        "for i in range(1,n+1,1):\n",
        "    sum=sum+i*i\n",
        "print(sum)"
      ],
      "execution_count": 39,
      "outputs": [
        {
          "output_type": "stream",
          "text": [
            "5\n",
            "55\n"
          ],
          "name": "stdout"
        }
      ]
    },
    {
      "cell_type": "markdown",
      "metadata": {
        "id": "LsnR_iVCpiz5",
        "colab_type": "text"
      },
      "source": [
        "#1^3+2^3+....+n^3"
      ]
    },
    {
      "cell_type": "code",
      "metadata": {
        "id": "mQiTEhPnpp88",
        "colab_type": "code",
        "colab": {
          "base_uri": "https://localhost:8080/",
          "height": 51
        },
        "outputId": "d29930f6-8d5b-440a-e6d2-8bbd9bae8c79"
      },
      "source": [
        "n=int(input())\n",
        "i=1\n",
        "sum=0\n",
        "\n",
        "while i<=n:\n",
        "  sum=sum+i*i*i\n",
        "  i=i+1\n",
        "print(sum)"
      ],
      "execution_count": 7,
      "outputs": [
        {
          "output_type": "stream",
          "text": [
            "3\n",
            "36\n"
          ],
          "name": "stdout"
        }
      ]
    },
    {
      "cell_type": "code",
      "metadata": {
        "id": "mHkHJo0GqD05",
        "colab_type": "code",
        "colab": {}
      },
      "source": [
        ""
      ],
      "execution_count": null,
      "outputs": []
    },
    {
      "cell_type": "markdown",
      "metadata": {
        "id": "9k-u6-PFqVF7",
        "colab_type": "text"
      },
      "source": [
        "# n shongkhok shongkhar gun"
      ]
    },
    {
      "cell_type": "code",
      "metadata": {
        "id": "HrYbFFY9qb7Y",
        "colab_type": "code",
        "colab": {
          "base_uri": "https://localhost:8080/",
          "height": 51
        },
        "outputId": "a3d5a1bf-4e09-458b-b390-eec3f3eb5142"
      },
      "source": [
        "n=int(input())\n",
        "i=1\n",
        "sum=1\n",
        "while i<=n:\n",
        "  sum=sum*i\n",
        "  i=i+1\n",
        "print(sum)"
      ],
      "execution_count": 11,
      "outputs": [
        {
          "output_type": "stream",
          "text": [
            "3\n",
            "6\n"
          ],
          "name": "stdout"
        }
      ]
    },
    {
      "cell_type": "markdown",
      "metadata": {
        "id": "TzLN5B4RrHoh",
        "colab_type": "text"
      },
      "source": [
        "#qus1=1+3+5+7+....+n=?"
      ]
    },
    {
      "cell_type": "code",
      "metadata": {
        "id": "7lnFMurirOXE",
        "colab_type": "code",
        "colab": {
          "base_uri": "https://localhost:8080/",
          "height": 51
        },
        "outputId": "94245264-9ab0-4b37-e352-d5071239fc1f"
      },
      "source": [
        "n=int(input())\n",
        "i=1\n",
        "sum=0\n",
        "\n",
        "while i<n+1:\n",
        "  sum=sum+i\n",
        "  i=i+2\n",
        "print(sum)"
      ],
      "execution_count": 16,
      "outputs": [
        {
          "output_type": "stream",
          "text": [
            "9\n",
            "25\n"
          ],
          "name": "stdout"
        }
      ]
    },
    {
      "cell_type": "markdown",
      "metadata": {
        "id": "veJbBLfLxHcN",
        "colab_type": "text"
      },
      "source": [
        "#rang\n"
      ]
    },
    {
      "cell_type": "code",
      "metadata": {
        "id": "gpxWG_85xusO",
        "colab_type": "code",
        "colab": {
          "base_uri": "https://localhost:8080/",
          "height": 34
        },
        "outputId": "23345eb3-6b9f-4a5e-ac12-ce27c0da4fff"
      },
      "source": [
        "list=[1,2,3,4,5,6,7,8]\n",
        "list"
      ],
      "execution_count": 24,
      "outputs": [
        {
          "output_type": "execute_result",
          "data": {
            "text/plain": [
              "[1, 2, 3, 4, 5, 6, 7, 8]"
            ]
          },
          "metadata": {
            "tags": []
          },
          "execution_count": 24
        }
      ]
    },
    {
      "cell_type": "code",
      "metadata": {
        "id": "uAtKy7nOyAQp",
        "colab_type": "code",
        "colab": {
          "base_uri": "https://localhost:8080/",
          "height": 180
        },
        "outputId": "283e6986-7eff-4e82-b8cd-2d4740415376"
      },
      "source": [
        "l = list(range(1,9,1))\n",
        "l"
      ],
      "execution_count": 26,
      "outputs": [
        {
          "output_type": "error",
          "ename": "TypeError",
          "evalue": "ignored",
          "traceback": [
            "\u001b[0;31m---------------------------------------------------------------------------\u001b[0m",
            "\u001b[0;31mTypeError\u001b[0m                                 Traceback (most recent call last)",
            "\u001b[0;32m<ipython-input-26-a14a76a1a2f1>\u001b[0m in \u001b[0;36m<module>\u001b[0;34m()\u001b[0m\n\u001b[0;32m----> 1\u001b[0;31m \u001b[0ml\u001b[0m \u001b[0;34m=\u001b[0m \u001b[0mlist\u001b[0m\u001b[0;34m(\u001b[0m\u001b[0mrange\u001b[0m\u001b[0;34m(\u001b[0m\u001b[0;36m1\u001b[0m\u001b[0;34m,\u001b[0m\u001b[0;36m9\u001b[0m\u001b[0;34m,\u001b[0m\u001b[0;36m1\u001b[0m\u001b[0;34m)\u001b[0m\u001b[0;34m)\u001b[0m\u001b[0;34m\u001b[0m\u001b[0;34m\u001b[0m\u001b[0m\n\u001b[0m\u001b[1;32m      2\u001b[0m \u001b[0ml\u001b[0m\u001b[0;34m\u001b[0m\u001b[0;34m\u001b[0m\u001b[0m\n",
            "\u001b[0;31mTypeError\u001b[0m: 'list' object is not callable"
          ]
        }
      ]
    },
    {
      "cell_type": "markdown",
      "metadata": {
        "id": "SAbaHCO1yszl",
        "colab_type": "text"
      },
      "source": [
        "#for\n"
      ]
    },
    {
      "cell_type": "code",
      "metadata": {
        "id": "rTVlKI7Hyt5Y",
        "colab_type": "code",
        "colab": {
          "base_uri": "https://localhost:8080/",
          "height": 187
        },
        "outputId": "76c3adcb-f028-4a2a-e0b0-00c11d5ed9a1"
      },
      "source": [
        "for i in range(10):\n",
        "  print(i)"
      ],
      "execution_count": 28,
      "outputs": [
        {
          "output_type": "stream",
          "text": [
            "0\n",
            "1\n",
            "2\n",
            "3\n",
            "4\n",
            "5\n",
            "6\n",
            "7\n",
            "8\n",
            "9\n"
          ],
          "name": "stdout"
        }
      ]
    },
    {
      "cell_type": "code",
      "metadata": {
        "id": "yhfNCjyxy4M2",
        "colab_type": "code",
        "colab": {
          "base_uri": "https://localhost:8080/",
          "height": 119
        },
        "outputId": "1c32912d-8043-43f1-f115-4b8345b44912"
      },
      "source": [
        "l=[2,6,7,\"q\",\"j\",4]\n",
        "\n",
        "for i in l:\n",
        "  print(i)"
      ],
      "execution_count": 29,
      "outputs": [
        {
          "output_type": "stream",
          "text": [
            "2\n",
            "6\n",
            "7\n",
            "q\n",
            "j\n",
            "4\n"
          ],
          "name": "stdout"
        }
      ]
    },
    {
      "cell_type": "code",
      "metadata": {
        "id": "R-5yyA7zzFde",
        "colab_type": "code",
        "colab": {
          "base_uri": "https://localhost:8080/",
          "height": 68
        },
        "outputId": "3a53336e-2462-43f3-b579-27b4ddae9ed4"
      },
      "source": [
        "l=[2,6,7,\"q\",\"j\",4]\n",
        "for i in (range(2,5,1)):\n",
        "  print(l[i])"
      ],
      "execution_count": 32,
      "outputs": [
        {
          "output_type": "stream",
          "text": [
            "7\n",
            "q\n",
            "j\n"
          ],
          "name": "stdout"
        }
      ]
    },
    {
      "cell_type": "code",
      "metadata": {
        "id": "oiWTK9Ci015z",
        "colab_type": "code",
        "colab": {
          "base_uri": "https://localhost:8080/",
          "height": 34
        },
        "outputId": "92c07a39-54f0-4a8a-d20a-dc01d4896c5f"
      },
      "source": [
        "l=[1,2,3,4,5]\n",
        "\n",
        "l=l+[6]\n",
        "l"
      ],
      "execution_count": 41,
      "outputs": [
        {
          "output_type": "execute_result",
          "data": {
            "text/plain": [
              "[1, 2, 3, 4, 5, 6]"
            ]
          },
          "metadata": {
            "tags": []
          },
          "execution_count": 41
        }
      ]
    },
    {
      "cell_type": "markdown",
      "metadata": {
        "id": "02suLTQC70lB",
        "colab_type": "text"
      },
      "source": [
        "#dictionary"
      ]
    },
    {
      "cell_type": "code",
      "metadata": {
        "id": "BlnGug4_72V2",
        "colab_type": "code",
        "colab": {}
      },
      "source": [
        "s1= {\n",
        "    \"name\":\"fari\",\n",
        "    \"id\":123,\n",
        "     \"dept\":\"cse\"\n",
        "}\n",
        "\n",
        "s2={\n",
        "     \"name\":\"nusrat\",\n",
        "    \"id\":12,\n",
        "     \"dept\":\"cse\"\n",
        "}\n"
      ],
      "execution_count": 47,
      "outputs": []
    },
    {
      "cell_type": "code",
      "metadata": {
        "id": "G8r0poKVG2IE",
        "colab_type": "code",
        "colab": {
          "base_uri": "https://localhost:8080/",
          "height": 51
        },
        "outputId": "86ef054a-ebf4-4173-ecb0-eab76d5804cf"
      },
      "source": [
        "g=[s1,s2]\n",
        "g"
      ],
      "execution_count": 48,
      "outputs": [
        {
          "output_type": "execute_result",
          "data": {
            "text/plain": [
              "[{'dept': 'cse', 'id': 123, 'name': 'fari'},\n",
              " {'dept': 'cse', 'id': 12, 'name': 'nusrat'}]"
            ]
          },
          "metadata": {
            "tags": []
          },
          "execution_count": 48
        }
      ]
    },
    {
      "cell_type": "code",
      "metadata": {
        "id": "dh97fBg_HCAk",
        "colab_type": "code",
        "colab": {}
      },
      "source": [
        "g={\n",
        "    123:s1,\n",
        "    12:s2\n",
        "}"
      ],
      "execution_count": 49,
      "outputs": []
    },
    {
      "cell_type": "code",
      "metadata": {
        "id": "AnXJfYjQHm0-",
        "colab_type": "code",
        "colab": {
          "base_uri": "https://localhost:8080/",
          "height": 51
        },
        "outputId": "858f2cb8-4660-4481-978f-e114b6ccca9d"
      },
      "source": [
        "g"
      ],
      "execution_count": 51,
      "outputs": [
        {
          "output_type": "execute_result",
          "data": {
            "text/plain": [
              "{12: {'dept': 'cse', 'id': 12, 'name': 'nusrat'},\n",
              " 123: {'dept': 'cse', 'id': 123, 'name': 'fari'}}"
            ]
          },
          "metadata": {
            "tags": []
          },
          "execution_count": 51
        }
      ]
    },
    {
      "cell_type": "code",
      "metadata": {
        "id": "zegIip3WHs1f",
        "colab_type": "code",
        "colab": {
          "base_uri": "https://localhost:8080/",
          "height": 51
        },
        "outputId": "53f02a6d-a738-4fed-bb3f-5626e7316058"
      },
      "source": [
        "dic= {\n",
        "     123:\n",
        "       { \"name\":\"fari\",\n",
        "        \"id\":123,\n",
        "        \"dept\":\"cse\"\n",
        "       },\n",
        "\n",
        "    12:\n",
        "      {\n",
        "         \"name\":\"nusrat\",\n",
        "        \"id\":12,\n",
        "         \"dept\":\"cse\"\n",
        "      }\n",
        "  }\n",
        "\n",
        "for i in dic:\n",
        "  print(dic[i][\"name\"])"
      ],
      "execution_count": 56,
      "outputs": [
        {
          "output_type": "stream",
          "text": [
            "fari\n",
            "nusrat\n"
          ],
          "name": "stdout"
        }
      ]
    },
    {
      "cell_type": "code",
      "metadata": {
        "id": "eXU6q9s7IRXz",
        "colab_type": "code",
        "colab": {
          "base_uri": "https://localhost:8080/",
          "height": 34
        },
        "outputId": "439d1c8a-1961-4f8a-c904-07cd7717be9d"
      },
      "source": [
        ""
      ],
      "execution_count": 53,
      "outputs": [
        {
          "output_type": "execute_result",
          "data": {
            "text/plain": [
              "{'dept': 'cse', 'id': 12, 'name': 'nusrat'}"
            ]
          },
          "metadata": {
            "tags": []
          },
          "execution_count": 53
        }
      ]
    }
  ]
}