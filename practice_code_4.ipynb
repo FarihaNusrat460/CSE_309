{
  "nbformat": 4,
  "nbformat_minor": 0,
  "metadata": {
    "colab": {
      "name": "practice_code_4",
      "provenance": [],
      "authorship_tag": "ABX9TyMtU5ZwkszvMLtAH7dAKzXS",
      "include_colab_link": true
    },
    "kernelspec": {
      "name": "python3",
      "display_name": "Python 3"
    }
  },
  "cells": [
    {
      "cell_type": "markdown",
      "metadata": {
        "id": "view-in-github",
        "colab_type": "text"
      },
      "source": [
        "<a href=\"https://colab.research.google.com/github/FarihaNusrat460/CSE_309/blob/master/practice_code_4.ipynb\" target=\"_parent\"><img src=\"https://colab.research.google.com/assets/colab-badge.svg\" alt=\"Open In Colab\"/></a>"
      ]
    },
    {
      "cell_type": "markdown",
      "metadata": {
        "id": "NKffiM9iV0j-",
        "colab_type": "text"
      },
      "source": [
        "#Loop "
      ]
    },
    {
      "cell_type": "markdown",
      "metadata": {
        "id": "j4cds_JjagwA",
        "colab_type": "text"
      },
      "source": [
        "#0-9 print"
      ]
    },
    {
      "cell_type": "code",
      "metadata": {
        "id": "q1fbrY8oanID",
        "colab_type": "code",
        "colab": {}
      },
      "source": [
        "''' for(int i=0;i<10;i++){\n",
        "  s.o.println(i);\n",
        "}'''\n",
        "\n",
        "''' \n",
        "int i=0;\n",
        "while(i<10){\n",
        "print(i);\n",
        "i++;\n",
        "\n",
        "}''''"
      ],
      "execution_count": null,
      "outputs": []
    },
    {
      "cell_type": "code",
      "metadata": {
        "id": "LzKvvpBqbCkc",
        "colab_type": "code",
        "colab": {
          "base_uri": "https://localhost:8080/",
          "height": 204
        },
        "outputId": "cd4e9459-8aa2-4a4a-bead-642863eb9ad5"
      },
      "source": [
        "i=0\n",
        "while i<10:\n",
        "    print(i)\n",
        "    i=i+1\n",
        "print(\"end programe\")"
      ],
      "execution_count": null,
      "outputs": [
        {
          "output_type": "stream",
          "text": [
            "0\n",
            "1\n",
            "2\n",
            "3\n",
            "4\n",
            "5\n",
            "6\n",
            "7\n",
            "8\n",
            "9\n",
            "end programe\n"
          ],
          "name": "stdout"
        }
      ]
    },
    {
      "cell_type": "markdown",
      "metadata": {
        "id": "aqWZM8e8ePa_",
        "colab_type": "text"
      },
      "source": [
        "#print even num from 1 to 20"
      ]
    },
    {
      "cell_type": "code",
      "metadata": {
        "id": "hn7s1LniehAr",
        "colab_type": "code",
        "colab": {
          "base_uri": "https://localhost:8080/",
          "height": 187
        },
        "outputId": "78adf606-34e6-450f-afcc-aaf13cab3ca6"
      },
      "source": [
        "i=2\n",
        "while i<=20:\n",
        "    print(i,)\n",
        "    i=i+2"
      ],
      "execution_count": null,
      "outputs": [
        {
          "output_type": "stream",
          "text": [
            "2\n",
            "4\n",
            "6\n",
            "8\n",
            "10\n",
            "12\n",
            "14\n",
            "16\n",
            "18\n",
            "20\n"
          ],
          "name": "stdout"
        }
      ]
    },
    {
      "cell_type": "markdown",
      "metadata": {
        "id": "D9zUJdVbe1Fa",
        "colab_type": "text"
      },
      "source": [
        "#print odd num from 1 to 20"
      ]
    },
    {
      "cell_type": "code",
      "metadata": {
        "id": "m6QODShoeZhT",
        "colab_type": "code",
        "colab": {
          "base_uri": "https://localhost:8080/",
          "height": 187
        },
        "outputId": "df4b7b61-75fa-4e8a-f8f7-11521c091dc7"
      },
      "source": [
        "i=1\n",
        "while i<=20:\n",
        "    print(i)\n",
        "    i=i+2"
      ],
      "execution_count": null,
      "outputs": [
        {
          "output_type": "stream",
          "text": [
            "1\n",
            "3\n",
            "5\n",
            "7\n",
            "9\n",
            "11\n",
            "13\n",
            "15\n",
            "17\n",
            "19\n"
          ],
          "name": "stdout"
        }
      ]
    },
    {
      "cell_type": "markdown",
      "metadata": {
        "id": "TMNJhYlWe_h4",
        "colab_type": "text"
      },
      "source": [
        "#1+2+....+10=? "
      ]
    },
    {
      "cell_type": "code",
      "metadata": {
        "id": "iro3SchnfJX7",
        "colab_type": "code",
        "colab": {
          "base_uri": "https://localhost:8080/",
          "height": 34
        },
        "outputId": "ed83bd31-d751-4eb2-f4d3-ca4f6607d5c7"
      },
      "source": [
        "i=0\n",
        "sum=0\n",
        "while i<10:\n",
        "    sum=sum+i\n",
        "    i=i+1\n",
        "print(sum)\n",
        "    \n",
        "    "
      ],
      "execution_count": null,
      "outputs": [
        {
          "output_type": "stream",
          "text": [
            "45\n"
          ],
          "name": "stdout"
        }
      ]
    },
    {
      "cell_type": "markdown",
      "metadata": {
        "id": "Opbkku_kiRbR",
        "colab_type": "text"
      },
      "source": [
        "#2+4+6+....+10=?"
      ]
    },
    {
      "cell_type": "code",
      "metadata": {
        "id": "Y1MAK10viW8M",
        "colab_type": "code",
        "colab": {
          "base_uri": "https://localhost:8080/",
          "height": 34
        },
        "outputId": "6e9d8b1c-41fc-4d20-f6fe-13b966793275"
      },
      "source": [
        "i=2\n",
        "sum=0\n",
        "\n",
        "while i<=10:\n",
        "    sum=sum+i\n",
        "    i=i+2\n",
        "print(sum)"
      ],
      "execution_count": null,
      "outputs": [
        {
          "output_type": "stream",
          "text": [
            "30\n"
          ],
          "name": "stdout"
        }
      ]
    },
    {
      "cell_type": "markdown",
      "metadata": {
        "id": "xmvVjF0_ivuV",
        "colab_type": "text"
      },
      "source": [
        "#1+2+...+10=55"
      ]
    },
    {
      "cell_type": "code",
      "metadata": {
        "id": "b2UyTeWni4qS",
        "colab_type": "code",
        "colab": {
          "base_uri": "https://localhost:8080/",
          "height": 34
        },
        "outputId": "4148f6e2-b552-4bea-aee6-ea060f483f72"
      },
      "source": [
        "i=1\n",
        "sum=0\n",
        "\n",
        "while i<11:\n",
        "  if i==10:\n",
        "    print(i,'=',end=' ')\n",
        "  else:\n",
        "    print(i, '+', end=' ')\n",
        "  sum=sum+i \n",
        "  i=i+1\n",
        "print(sum)"
      ],
      "execution_count": null,
      "outputs": [
        {
          "output_type": "stream",
          "text": [
            "1 + 2 + 3 + 4 + 5 + 6 + 7 + 8 + 9 + 10 = 55\n"
          ],
          "name": "stdout"
        }
      ]
    },
    {
      "cell_type": "markdown",
      "metadata": {
        "id": "75F037PZwuYR",
        "colab_type": "text"
      },
      "source": [
        "#1+2+.....+10=?"
      ]
    },
    {
      "cell_type": "code",
      "metadata": {
        "id": "ErJfFy7Sw3Kn",
        "colab_type": "code",
        "colab": {
          "base_uri": "https://localhost:8080/",
          "height": 34
        },
        "outputId": "0499dd79-488b-4250-894a-ebd1e4c99f36"
      },
      "source": [
        "i=1\n",
        "\n",
        "while i<11:\n",
        "  if i==10:\n",
        "    print(i,'=',end=' ')\n",
        "  else:\n",
        "    print(i,'+', end = ' ')\n",
        "  i=i+1\n",
        "print('?')"
      ],
      "execution_count": null,
      "outputs": [
        {
          "output_type": "stream",
          "text": [
            "1 + 2 + 3 + 4 + 5 + 6 + 7 + 8 + 9 + 10 = ?\n"
          ],
          "name": "stdout"
        }
      ]
    },
    {
      "cell_type": "markdown",
      "metadata": {
        "id": "06K5EAmty97M",
        "colab_type": "text"
      },
      "source": [
        "start=10,\n",
        "end=20,\n",
        "10+11+...+20=?"
      ]
    },
    {
      "cell_type": "code",
      "metadata": {
        "id": "60-q91XnzFQl",
        "colab_type": "code",
        "colab": {
          "base_uri": "https://localhost:8080/",
          "height": 68
        },
        "outputId": "9f27ec39-a153-4d55-f8c0-312856825a3d"
      },
      "source": [
        "start=int(input('start: '))\n",
        "end_i=int(input('end: '))\n",
        "\n",
        "i=start\n",
        "sum=0\n",
        "\n",
        "while i<end_i+1:\n",
        "   if i==end_i:\n",
        "     print(i,'=',end=' ')\n",
        "   else:\n",
        "     print(i,'+',end=' ')\n",
        "   sum= sum + i\n",
        "   i=i+1\n",
        "print(sum)"
      ],
      "execution_count": null,
      "outputs": [
        {
          "output_type": "stream",
          "text": [
            "start: 10\n",
            "end: 20\n",
            "10 + 11 + 12 + 13 + 14 + 15 + 16 + 17 + 18 + 19 + 20 = 165\n"
          ],
          "name": "stdout"
        }
      ]
    },
    {
      "cell_type": "markdown",
      "metadata": {
        "id": "T1rKKsUq1lKD",
        "colab_type": "text"
      },
      "source": [
        "\n",
        "\n",
        "```\n",
        "input:\n",
        "start:20\n",
        "finish:40\n",
        "output:\n",
        "20+22+24+....+40=?\n",
        "\n",
        "```\n",
        "\n"
      ]
    },
    {
      "cell_type": "code",
      "metadata": {
        "id": "QtEC3ZIL1xbA",
        "colab_type": "code",
        "colab": {
          "base_uri": "https://localhost:8080/",
          "height": 68
        },
        "outputId": "24ef1b6e-dc5f-40dc-dcc2-48df69137d81"
      },
      "source": [
        "start=int(input('start: '))\n",
        "finish=int(input('finish: '))\n",
        "\n",
        "i=start\n",
        "sum=0\n",
        "\n",
        "while i<finish+1:\n",
        "   if i==finish:\n",
        "     print(i,'=',end=' ')\n",
        "   else:\n",
        "     print(i,'+',end=' ')\n",
        "   sum=sum+i\n",
        "   i=i+2\n",
        "print(sum)\n",
        "  "
      ],
      "execution_count": null,
      "outputs": [
        {
          "output_type": "stream",
          "text": [
            "start: 10\n",
            "finish: 21\n",
            "10 + 12 + 14 + 16 + 18 + 20 + 90\n"
          ],
          "name": "stdout"
        }
      ]
    },
    {
      "cell_type": "code",
      "metadata": {
        "id": "M8KOc-4x9uEI",
        "colab_type": "code",
        "colab": {}
      },
      "source": [
        ""
      ],
      "execution_count": null,
      "outputs": []
    }
  ]
}