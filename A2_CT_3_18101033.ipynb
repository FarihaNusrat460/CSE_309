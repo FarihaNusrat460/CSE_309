{
  "nbformat": 4,
  "nbformat_minor": 0,
  "metadata": {
    "colab": {
      "name": "A2_CT_3_18101033",
      "provenance": [],
      "collapsed_sections": [],
      "authorship_tag": "ABX9TyORTAyJQdr86+mfGJooAvvF",
      "include_colab_link": true
    },
    "kernelspec": {
      "name": "python3",
      "display_name": "Python 3"
    }
  },
  "cells": [
    {
      "cell_type": "markdown",
      "metadata": {
        "id": "view-in-github",
        "colab_type": "text"
      },
      "source": [
        "<a href=\"https://colab.research.google.com/github/FarihaNusrat460/CSE_309/blob/master/A2_CT_3_18101033.ipynb\" target=\"_parent\"><img src=\"https://colab.research.google.com/assets/colab-badge.svg\" alt=\"Open In Colab\"/></a>"
      ]
    },
    {
      "cell_type": "code",
      "metadata": {
        "id": "Xk9dAxjy-QHe",
        "colab_type": "code",
        "colab": {}
      },
      "source": [
        "s = {\n",
        "    \n",
        "  1:{ \"id\":1,\n",
        "      \"First Name\":\"Peter\",\n",
        "     \"Last Name\":\"Lee\",\n",
        "     \"Email\":\"plee@university.edu\",\n",
        "     \"Year of Birth\": 1992\n",
        "   },\n",
        " \n",
        "  2:{\n",
        "      \"id\":2,\n",
        "      \"First Name\":\"Jonathan\",\n",
        "     \"Last Name\":\"Edwards\",\n",
        "     \"Email\":\"jedwards@university.edu\",\n",
        "     \"Year of Birth\": 1994\n",
        "   },\n",
        "   3:{\n",
        "       \"id\":3,\n",
        "      \"First Name\":\"Marilyn\",\n",
        "     \"Last Name\":\"Johnson\",\n",
        "     \"Email\":\"mjohnson@university.edu\",\n",
        "     \"Year of Birth\": 1993\n",
        "   },\n",
        "\n",
        "   6:{\n",
        "       \"id\":6,\n",
        "      \"First Name\":\"Joe\",\n",
        "     \"Last Name\":\"Kim\",\n",
        "     \"Email\":\"jkim@university.edu\",\n",
        "     \"Year of Birth\": 1992\n",
        "   },\n",
        "\n",
        "}\n",
        "\n",
        "\n",
        "for i in s:\n",
        "  if s[i]==id:\n",
        "      print(s[i])\n",
        "\n"
      ],
      "execution_count": null,
      "outputs": []
    },
    {
      "cell_type": "code",
      "metadata": {
        "id": "jP72UUHLxV6R",
        "colab_type": "code",
        "colab": {
          "base_uri": "https://localhost:8080/",
          "height": 102
        },
        "outputId": "5cfcd900-4f14-4b39-b82e-d0c46eb0f2fa"
      },
      "source": [
        "s[2]"
      ],
      "execution_count": null,
      "outputs": [
        {
          "output_type": "execute_result",
          "data": {
            "text/plain": [
              "{'Email': 'jedwards@university.edu',\n",
              " 'First Name': 'Jonathan',\n",
              " 'Last Name': 'Edwards',\n",
              " 'Year of Birth': 1994,\n",
              " 'id': 2}"
            ]
          },
          "metadata": {
            "tags": []
          },
          "execution_count": 16
        }
      ]
    }
  ]
}